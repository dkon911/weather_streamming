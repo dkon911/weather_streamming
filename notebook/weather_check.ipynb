{
 "nbformat": 4,
 "nbformat_minor": 0,
 "metadata": {
  "colab": {
   "provenance": []
  },
  "kernelspec": {
   "name": "python3",
   "display_name": "Python 3 (ipykernel)",
   "language": "python"
  },
  "language_info": {
   "name": "python"
  }
 },
 "cells": [
  {
   "metadata": {},
   "cell_type": "markdown",
   "source": "# Pyspark"
  },
  {
   "cell_type": "code",
   "execution_count": null,
   "metadata": {
    "colab": {
     "base_uri": "https://localhost:8080/"
    },
    "id": "G8ePMPQ3syn5",
    "outputId": "baf584e2-2a87-49b7-beaf-c34e3b31fafd"
   },
   "outputs": [
    {
     "output_type": "stream",
     "name": "stdout",
     "text": [
      "Requirement already satisfied: pyspark in /usr/local/lib/python3.10/dist-packages (3.5.1)\n",
      "Requirement already satisfied: py4j==0.10.9.7 in /usr/local/lib/python3.10/dist-packages (from pyspark) (0.10.9.7)\n"
     ]
    }
   ],
   "source": [
    "import findspark\n",
    "findspark.init()\n",
    "from pyspark.sql import SparkSession\n",
    "from pyspark.sql.functions import col, to_date, year, month, avg\n"
   ]
  },
  {
   "cell_type": "code",
   "source": [
    "# Initialize SparkSession\n",
    "spark = SparkSession.builder.appName(\"WeatherDataProcessing\").getOrCreate()\n",
    "\n",
    "# Load historical weather data (replace with your data source)\n",
    "data = spark.read.csv(\"/content/historical_weather.csv\", header=True)\n",
    "cleaned_data= data.drop('region')\n",
    "cleaned_data.na.drop()\n",
    "cleaned_data.show()"
   ],
   "metadata": {
    "colab": {
     "base_uri": "https://localhost:8080/"
    },
    "id": "DQKYrrowwtnr",
    "outputId": "b1434d6d-4bce-4741-db93-77fe166bf742"
   },
   "execution_count": null,
   "outputs": [
    {
     "output_type": "stream",
     "name": "stdout",
     "text": [
      "+--------------------+-----------+---------+-----+--------------+--------------------+--------------------+-------+--------------------+--------------------+------------------+------------------+----------+----------+-----------+-------+--------+------+-----+----------------+---------------+------+---------+-----------+---------+----------------+---------+---------+-----------+-----------+-------+------+----------------+--------------+------------+----------------+---+-----------+--------+\n",
      "|                  id|avghumidity|avgtemp_c|cloud|condition_code|      condition_icon|      condition_text|country|daily_chance_of_rain|daily_chance_of_snow|daily_will_it_rain|daily_will_it_snow|      date|date_epoch|feelslike_c|hour_uv|humidity|is_day|  lat|       localtime|localtime_epoch|   lon|maxtemp_c|maxwind_kph|mintemp_c|            name|precip_in|precip_mm|pressure_in|pressure_mb|snow_cm|temp_c|            time|totalprecip_mm|totalsnow_cm|           tz_id| uv|wind_degree|wind_kph|\n",
      "+--------------------+-----------+---------+-----+--------------+--------------------+--------------------+-------+--------------------+--------------------+------------------+------------------+----------+----------+-----------+-------+--------+------+-----+----------------+---------------+------+---------+-----------+---------+----------------+---------+---------+-----------+-----------+-------+------+----------------+--------------+------------+----------------+---+-----------+--------+\n",
      "|4286cd67-728a-420...|         81|     25.5|   82|          1006|//cdn.weatherapi....|              Cloudy|Vietnam|                 100|                   0|                 1|                 0|2024-03-25|1711324800|       26.4|      1|      86|     0|21.03|2024-06-20 15:52|     1718873577|105.85|     29.4|       16.9|     23.3|           Hanoi|        0|        0|      29.83|       1010|      0|  24.2|2024-03-25 00:00|          0.27|           0|    Asia/Bangkok|  6|        141|    16.6|\n",
      "|952c3aa0-16b7-437...|         72|     29.3|   60|          1006|//cdn.weatherapi....|              Cloudy|Vietnam|                 100|                   0|                 1|                 0|2020-09-06|1599350400|       31.4|      1|      83|     0|10.82|2024-06-21 16:07|     1718960850|106.63|     33.3|       13.7|     26.4|Ho Chi Minh City|        0|        0|      29.75|       1007|      0|  27.3|2020-09-06 02:00|           1.5|           0|Asia/Ho_Chi_Minh|  7|        230|       8|\n",
      "|b09685e8-cf55-4b7...|         67|     28.6|    7|          1000|//cdn.weatherapi....|               Clear|Vietnam|                  45|                   0|                 0|                 0|2024-02-21|1708473600|       27.9|      1|      73|     0|10.82|2024-06-21 18:30|     1718969456|106.63|     36.1|         27|     24.3|Ho Chi Minh City|        0|        0|      29.86|       1011|      0|  25.9|2024-02-21 20:00|             0|           0|Asia/Ho_Chi_Minh|  9|        140|    19.1|\n",
      "|635a56a1-1c8a-463...|         78|     22.3|   64|          1063|//cdn.weatherapi....|Patchy rain possible|Vietnam|                 100|                   0|                 1|                 0|2018-12-23|1545523200|       24.5|      1|      91|     0|21.03|2024-06-20 11:27|     1718857648|105.85|     24.2|       10.8|     19.5|           Hanoi|     0.01|      0.2|      30.03|       1017|      0|    22|2018-12-23 02:00|          3.28|           0|    Asia/Bangkok|  5|        104|     8.5|\n",
      "|7787fe5b-5688-48b...|         84|       24|    9|          1000|//cdn.weatherapi....|               Sunny|Vietnam|                   0|                   0|                 0|                 0|2024-03-04|1709510400|       29.9|      7|      75|     1|16.05| 2024-06-21 9:15|     1718936107|108.21|     28.6|       23.8|     20.7|    Atba Village|        0|        0|      29.71|       1006|      0|  27.1|2024-03-04 15:00|             0|           0|Asia/Ho_Chi_Minh|  7|        121|    23.8|\n",
      "|09e54c70-62ee-44d...|         81|     27.8|   57|          1003|//cdn.weatherapi....|       Partly cloudy|Vietnam|                 100|                   0|                 1|                 0|2022-08-08|1659916800|       26.5|      6|      96|     1|21.03|2024-06-20 15:13|     1718871191|105.85|     32.9|       11.9|     23.9|           Hanoi|        0|        0|       29.7|       1006|      0|  23.9|2022-08-08 06:00|           5.7|           0|    Asia/Bangkok|  7|        310|     9.7|\n",
      "|81fec2a6-4bdf-41e...|         62|     32.1|   28|          1003|//cdn.weatherapi....|       Partly cloudy|Vietnam|                   0|                   0|                 0|                 0|2013-06-08|1370649600|       32.8|      1|      87|     0|21.03|2024-06-19 12:12|     1718773979|105.85|     38.5|       10.1|     27.4|           Hanoi|        0|        0|      29.57|       1001|      0|  27.7|2013-06-08 02:00|             0|           0|    Asia/Bangkok|  9|         50|     2.4|\n",
      "|12e29921-461c-4c7...|         92|       25|   59|          1063|//cdn.weatherapi....|Patchy rain possible|Vietnam|                 100|                   0|                 1|                 0|2022-10-02|1664668800|       27.4|      5|      92|     1|10.82|2024-06-21 17:11|     1718964712|106.63|     27.3|        7.9|     23.9|Ho Chi Minh City|        0|      0.1|      29.81|       1009|      0|  24.7|2022-10-02 08:00|           6.7|           0|Asia/Ho_Chi_Minh|  6|        221|     1.7|\n",
      "|cb1b51aa-5891-4c5...|         66|     30.1|   66|          1006|//cdn.weatherapi....|              Cloudy|Vietnam|                 100|                   0|                 1|                 0|2012-06-26|1340668800|       29.5|      1|      79|     0|21.03|2024-06-19 12:12|     1718773954|105.85|     35.5|          9|     26.6|           Hanoi|        0|        0|      29.51|        999|      0|  26.6|2012-06-26 04:00|           0.5|           0|    Asia/Bangkok|  8|        204|     6.8|\n",
      "|aa90d703-c8b8-457...|         82|     27.5|   60|          1006|//cdn.weatherapi....|              Cloudy|Vietnam|                 100|                   0|                 1|                 0|2014-09-14|1410652800|         34|      6|      71|     1|10.82|2024-06-21 12:03|     1718946211|106.63|     31.8|       17.6|     25.1|Ho Chi Minh City|        0|        0|      29.76|       1008|      0|  28.9|2014-09-14 09:00|           8.7|           0|Asia/Ho_Chi_Minh|  7|        258|    13.7|\n",
      "|7826c649-aceb-4bf...|         59|     28.9|   12|          1000|//cdn.weatherapi....|               Clear|Vietnam|                   0|                   0|                 0|                 0|2010-02-19|1266537600|       28.9|      1|      70|     0|10.82| 2024-06-21 9:59|     1718938748|106.63|     33.3|       17.3|     25.9|Ho Chi Minh City|        0|        0|      29.91|       1013|      0|  26.8|2010-02-19 21:00|             0|           0|Asia/Ho_Chi_Minh|  8|        122|      14|\n",
      "|d89ab3f9-56ca-4d4...|         89|     22.6|   70|          1006|//cdn.weatherapi....|              Cloudy|Vietnam|                   0|                   0|                 0|                 0|2014-03-26|1395792000|       21.5|      1|      92|     0|16.05|2024-06-19 19:54|     1718801690|108.21|     25.3|       12.1|       21|    Atba Village|        0|        0|      30.01|       1016|      0|  21.5|2014-03-26 20:00|             0|           0|Asia/Ho_Chi_Minh|  6|        189|       9|\n",
      "|e18fb00b-2552-422...|         61|     29.6|    4|          1000|//cdn.weatherapi....|               Sunny|Vietnam|                   0|                   0|                 0|                 0|2018-03-06|1520294400|       33.7|      8|      49|     1|10.82|2024-06-21 14:19|     1718954362|106.63|       36|       15.5|     25.1|Ho Chi Minh City|        0|        0|      29.88|       1012|      0|  30.8|2018-03-06 09:00|             0|           0|Asia/Ho_Chi_Minh|  9|        111|    11.9|\n",
      "|ce3d300a-938d-457...|         93|     23.5|  100|          1243|//cdn.weatherapi....|Moderate or heavy...|Vietnam|                 100|                   0|                 1|                 0|2010-11-14|1289692800|       24.9|      1|      93|     0|16.05|2024-06-19 12:14|     1718774040|108.21|     24.5|       22.7|     22.4|    Atba Village|      0.1|      2.6|      29.91|       1013|      0|  22.5|2010-11-14 01:00|        212.09|           0|Asia/Ho_Chi_Minh|  5|         45|    16.9|\n",
      "|de2ec74f-adba-419...|         56|     16.5|   21|          1000|//cdn.weatherapi....|               Sunny|Vietnam|                   0|                   0|                 0|                 0|2022-12-31|1672444800|       18.8|      5|      44|     1|21.03|2024-06-20 15:13|     1718871200|105.85|     20.2|        8.6|     13.5|           Hanoi|        0|        0|      30.23|       1024|      0|  18.8|2022-12-31 12:00|             0|           0|    Asia/Bangkok|  5|         14|     8.3|\n",
      "|e3ed4859-095f-4f1...|         76|     28.4|   11|          1000|//cdn.weatherapi....|               Clear|Vietnam|                 100|                   0|                 1|                 0|2024-06-17|1718582400|         28|      1|      84|     0|16.05| 2024-06-21 9:15|     1718936112|108.21|     33.3|       24.5|     25.3|    Atba Village|        0|        0|      29.65|       1004|      0|  25.4|2024-06-17 01:00|         25.58|           0|Asia/Ho_Chi_Minh|  7|        231|    10.4|\n",
      "|e17bd715-9407-445...|         78|     27.4|   66|          1006|//cdn.weatherapi....|              Cloudy|Vietnam|                 100|                   0|                 1|                 0|2014-08-07|1407369600|       29.8|      6|      81|     1|10.82|2024-06-21 12:03|     1718946209|106.63|     31.6|       14.8|     24.5|Ho Chi Minh City|        0|        0|      29.82|       1010|      0|  26.3|2014-08-07 07:00|           9.6|           0|Asia/Ho_Chi_Minh|  7|        250|    10.7|\n",
      "|342f7fc2-1598-4f6...|         82|     28.4|   20|          1000|//cdn.weatherapi....|               Sunny|Vietnam|                   0|                   0|                 0|                 0|2012-07-27|1343347200|       34.4|      7|      85|     1|16.05|2024-06-19 19:54|     1718801659|108.21|     32.3|       10.1|     25.2|    Atba Village|        0|        0|      29.64|       1004|      0|  29.4|2012-07-27 17:00|             0|           0|Asia/Ho_Chi_Minh|  8|        118|     5.4|\n",
      "|a9dd404a-7653-43b...|         80|       29|   42|          1003|//cdn.weatherapi....|       Partly cloudy|Vietnam|                 100|                   0|                 1|                 0|2012-07-19|1342656000|       34.6|      7|      76|     1|21.03|2024-06-19 12:12|     1718773955|105.85|     33.6|          9|     26.6|           Hanoi|        0|        0|      29.68|       1005|      0|  28.6|2012-07-19 08:00|         14.18|           0|    Asia/Bangkok|  7|        129|     5.8|\n",
      "|e4bf3fb1-060d-4d8...|         82|     26.8|   80|          1006|//cdn.weatherapi....|              Cloudy|Vietnam|                 100|                   0|                 1|                 0|2022-09-15|1663200000|         27|      1|      91|     0|10.82|2024-06-21 17:11|     1718964711|106.63|     30.6|       18.5|     24.4|Ho Chi Minh City|        0|        0|      29.82|       1010|      0|  24.5|2022-09-15 05:00|           6.8|           0|Asia/Ho_Chi_Minh|  7|        210|     9.6|\n",
      "+--------------------+-----------+---------+-----+--------------+--------------------+--------------------+-------+--------------------+--------------------+------------------+------------------+----------+----------+-----------+-------+--------+------+-----+----------------+---------------+------+---------+-----------+---------+----------------+---------+---------+-----------+-----------+-------+------+----------------+--------------+------------+----------------+---+-----------+--------+\n",
      "only showing top 20 rows\n",
      "\n"
     ]
    }
   ]
  },
  {
   "cell_type": "code",
   "source": [],
   "metadata": {
    "id": "cCMXrA3JcATk"
   },
   "execution_count": null,
   "outputs": []
  },
  {
   "cell_type": "code",
   "source": [
    "# Transform the data base on dataset\n",
    "spark.stop()"
   ],
   "metadata": {
    "colab": {
     "base_uri": "https://localhost:8080/",
     "height": 211
    },
    "id": "23X6oJ8awvuc",
    "outputId": "cf1d6177-2239-4679-801e-36c203004c34"
   },
   "execution_count": null,
   "outputs": [
    {
     "output_type": "error",
     "ename": "NameError",
     "evalue": "name 'cleaned_data' is not defined",
     "traceback": [
      "\u001B[0;31m---------------------------------------------------------------------------\u001B[0m",
      "\u001B[0;31mNameError\u001B[0m                                 Traceback (most recent call last)",
      "\u001B[0;32m<ipython-input-4-35ba3696a1eb>\u001B[0m in \u001B[0;36m<cell line: 3>\u001B[0;34m()\u001B[0m\n\u001B[1;32m      1\u001B[0m \u001B[0;31m# Transform the data\u001B[0m\u001B[0;34m\u001B[0m\u001B[0;34m\u001B[0m\u001B[0m\n\u001B[1;32m      2\u001B[0m \u001B[0;31m# Extract year and month from date column\u001B[0m\u001B[0;34m\u001B[0m\u001B[0;34m\u001B[0m\u001B[0m\n\u001B[0;32m----> 3\u001B[0;31m \u001B[0mtransformed_data\u001B[0m \u001B[0;34m=\u001B[0m \u001B[0mcleaned_data\u001B[0m\u001B[0;34m.\u001B[0m\u001B[0mwithColumn\u001B[0m\u001B[0;34m(\u001B[0m\u001B[0;34m\"Year\"\u001B[0m\u001B[0;34m,\u001B[0m \u001B[0myear\u001B[0m\u001B[0;34m(\u001B[0m\u001B[0mto_date\u001B[0m\u001B[0;34m(\u001B[0m\u001B[0mcol\u001B[0m\u001B[0;34m(\u001B[0m\u001B[0;34m\"Date\"\u001B[0m\u001B[0;34m)\u001B[0m\u001B[0;34m,\u001B[0m \u001B[0;34m\"yyyy-MM-dd\"\u001B[0m\u001B[0;34m)\u001B[0m\u001B[0;34m)\u001B[0m\u001B[0;34m)\u001B[0m\u001B[0;31m \u001B[0m\u001B[0;31m\\\u001B[0m\u001B[0;34m\u001B[0m\u001B[0;34m\u001B[0m\u001B[0m\n\u001B[0m\u001B[1;32m      4\u001B[0m                                 \u001B[0;34m.\u001B[0m\u001B[0mwithColumn\u001B[0m\u001B[0;34m(\u001B[0m\u001B[0;34m\"Month\"\u001B[0m\u001B[0;34m,\u001B[0m \u001B[0mmonth\u001B[0m\u001B[0;34m(\u001B[0m\u001B[0mto_date\u001B[0m\u001B[0;34m(\u001B[0m\u001B[0mcol\u001B[0m\u001B[0;34m(\u001B[0m\u001B[0;34m\"Date\"\u001B[0m\u001B[0;34m)\u001B[0m\u001B[0;34m,\u001B[0m \u001B[0;34m\"yyyy-MM-dd\"\u001B[0m\u001B[0;34m)\u001B[0m\u001B[0;34m)\u001B[0m\u001B[0;34m)\u001B[0m\u001B[0;34m\u001B[0m\u001B[0;34m\u001B[0m\u001B[0m\n\u001B[1;32m      5\u001B[0m \u001B[0;34m\u001B[0m\u001B[0m\n",
      "\u001B[0;31mNameError\u001B[0m: name 'cleaned_data' is not defined"
     ]
    }
   ]
  },
  {
   "cell_type": "code",
   "source": [
    "from datetime import datetime, timedelta\n",
    "def check_up():\n",
    "    end_date = datetime.now()\n",
    "    start_date = end_date - timedelta(days=1)\n",
    "\n",
    "    # Format dates as strings if required by live_weather\n",
    "    formatted_start_date = end_date.strftime('%Y-%m-%d')\n",
    "    formatted_end_date = end_date.strftime('%Y-%m-%d')\n",
    "\n",
    "    print(formatted_start_date)\n",
    "    print(formatted_end_date)"
   ],
   "metadata": {
    "id": "ClbN-SUf2jzQ"
   },
   "execution_count": null,
   "outputs": []
  },
  {
   "cell_type": "code",
   "source": [
    "check_up()"
   ],
   "metadata": {
    "colab": {
     "base_uri": "https://localhost:8080/"
    },
    "id": "y_g44NYnYxcI",
    "outputId": "202b8be7-be6e-4b2e-b9e3-a58552e3b424"
   },
   "execution_count": null,
   "outputs": [
    {
     "output_type": "stream",
     "name": "stdout",
     "text": [
      "2024-07-21\n",
      "2024-07-21\n"
     ]
    }
   ]
  },
  {
   "metadata": {},
   "cell_type": "markdown",
   "source": "# Explore data"
  },
  {
   "cell_type": "code",
   "source": [
    "import pandas as pd"
   ],
   "metadata": {
    "id": "RLh4jyyeYM-b",
    "ExecuteTime": {
     "end_time": "2024-08-14T04:05:41.614154Z",
     "start_time": "2024-08-14T04:05:39.486Z"
    }
   },
   "outputs": [],
   "execution_count": 1
  },
  {
   "cell_type": "code",
   "source": "weather = pd.read_csv(\"C:/Users/Dell/historical_weather.csv\", index_col='date')",
   "metadata": {
    "id": "GJc28n-1Zdnr",
    "ExecuteTime": {
     "end_time": "2024-08-14T04:05:42.552723Z",
     "start_time": "2024-08-14T04:05:41.616138Z"
    }
   },
   "outputs": [],
   "execution_count": 2
  },
  {
   "cell_type": "code",
   "source": [
    "weather"
   ],
   "metadata": {
    "colab": {
     "base_uri": "https://localhost:8080/",
     "height": 996
    },
    "id": "LPkSYaXSZluz",
    "outputId": "1e086d3c-c842-46be-8a4b-75a51de2b61f",
    "ExecuteTime": {
     "end_time": "2024-08-12T15:09:23.441708Z",
     "start_time": "2024-08-12T15:09:23.322842Z"
    }
   },
   "outputs": [
    {
     "data": {
      "text/plain": [
       "                                              id  avghumidity  avgtemp_c  \\\n",
       "date                                                                       \n",
       "2024-03-25  4286cd67-728a-420a-bf1b-0d625371c939           81       25.5   \n",
       "2020-09-06  952c3aa0-16b7-4376-a1c5-a0d1655ffc83           72       29.3   \n",
       "2024-02-21  b09685e8-cf55-4b79-9293-96a685c724a4           67       28.6   \n",
       "2018-12-23  635a56a1-1c8a-463e-beb6-151f42db2390           78       22.3   \n",
       "2024-03-04  7787fe5b-5688-48b8-9e20-86fd7d50d371           84       24.0   \n",
       "...                                          ...          ...        ...   \n",
       "2012-09-07  7e3219b3-eb35-4749-94a8-3cacc5f44ac1           85       26.8   \n",
       "2014-09-30  d04e1907-e8d5-4f4d-8e8b-ce00ade2c690           84       26.6   \n",
       "2012-08-18  cdc6b6ab-bf6b-4e31-ad51-8e87fee6d374           87       28.3   \n",
       "2024-01-04  22d0195a-d028-4bc2-8888-42dc3051c3d8           61       27.8   \n",
       "2016-09-15  3d594134-99da-4864-8609-2b8c69066c96           78       27.8   \n",
       "\n",
       "            cloud  condition_code  \\\n",
       "date                                \n",
       "2024-03-25     82            1006   \n",
       "2020-09-06     60            1006   \n",
       "2024-02-21      7            1000   \n",
       "2018-12-23     64            1063   \n",
       "2024-03-04      9            1000   \n",
       "...           ...             ...   \n",
       "2012-09-07     58            1063   \n",
       "2014-09-30     28            1003   \n",
       "2012-08-18     26            1003   \n",
       "2024-01-04     14            1000   \n",
       "2016-09-15     22            1000   \n",
       "\n",
       "                                              condition_icon  \\\n",
       "date                                                           \n",
       "2024-03-25  //cdn.weatherapi.com/weather/64x64/night/119.png   \n",
       "2020-09-06  //cdn.weatherapi.com/weather/64x64/night/119.png   \n",
       "2024-02-21  //cdn.weatherapi.com/weather/64x64/night/113.png   \n",
       "2018-12-23  //cdn.weatherapi.com/weather/64x64/night/176.png   \n",
       "2024-03-04    //cdn.weatherapi.com/weather/64x64/day/113.png   \n",
       "...                                                      ...   \n",
       "2012-09-07    //cdn.weatherapi.com/weather/64x64/day/176.png   \n",
       "2014-09-30  //cdn.weatherapi.com/weather/64x64/night/116.png   \n",
       "2012-08-18    //cdn.weatherapi.com/weather/64x64/day/116.png   \n",
       "2024-01-04    //cdn.weatherapi.com/weather/64x64/day/113.png   \n",
       "2016-09-15    //cdn.weatherapi.com/weather/64x64/day/113.png   \n",
       "\n",
       "                  condition_text  country  daily_chance_of_rain  \\\n",
       "date                                                              \n",
       "2024-03-25                Cloudy  Vietnam                   100   \n",
       "2020-09-06                Cloudy  Vietnam                   100   \n",
       "2024-02-21                 Clear  Vietnam                    45   \n",
       "2018-12-23  Patchy rain possible  Vietnam                   100   \n",
       "2024-03-04                 Sunny  Vietnam                     0   \n",
       "...                          ...      ...                   ...   \n",
       "2012-09-07  Patchy rain possible  Vietnam                   100   \n",
       "2014-09-30         Partly cloudy  Vietnam                   100   \n",
       "2012-08-18         Partly cloudy  Vietnam                   100   \n",
       "2024-01-04                 Sunny  Vietnam                     0   \n",
       "2016-09-15                 Sunny  Vietnam                   100   \n",
       "\n",
       "            daily_chance_of_snow  ...  region  snow_cm  temp_c  \\\n",
       "date                              ...                            \n",
       "2024-03-25                     0  ...     NaN        0    24.2   \n",
       "2020-09-06                     0  ...     NaN        0    27.3   \n",
       "2024-02-21                     0  ...     NaN        0    25.9   \n",
       "2018-12-23                     0  ...     NaN        0    22.0   \n",
       "2024-03-04                     0  ...     NaN        0    27.1   \n",
       "...                          ...  ...     ...      ...     ...   \n",
       "2012-09-07                     0  ...     NaN        0    26.4   \n",
       "2014-09-30                     0  ...     NaN        0    26.2   \n",
       "2012-08-18                     0  ...     NaN        0    28.2   \n",
       "2024-01-04                     0  ...     NaN        0    26.0   \n",
       "2016-09-15                     0  ...     NaN        0    28.0   \n",
       "\n",
       "                        time  totalprecip_mm  totalsnow_cm             tz_id  \\\n",
       "date                                                                           \n",
       "2024-03-25  2024-03-25 00:00            0.27             0      Asia/Bangkok   \n",
       "2020-09-06  2020-09-06 02:00            1.50             0  Asia/Ho_Chi_Minh   \n",
       "2024-02-21  2024-02-21 20:00            0.00             0  Asia/Ho_Chi_Minh   \n",
       "2018-12-23  2018-12-23 02:00            3.28             0      Asia/Bangkok   \n",
       "2024-03-04  2024-03-04 15:00            0.00             0  Asia/Ho_Chi_Minh   \n",
       "...                      ...             ...           ...               ...   \n",
       "2012-09-07  2012-09-07 07:00            4.10             0  Asia/Ho_Chi_Minh   \n",
       "2014-09-30  2014-09-30 18:00            0.20             0  Asia/Ho_Chi_Minh   \n",
       "2012-08-18  2012-08-18 18:00            0.50             0  Asia/Ho_Chi_Minh   \n",
       "2024-01-04  2024-01-04 08:00            0.00             0  Asia/Ho_Chi_Minh   \n",
       "2016-09-15  2016-09-15 17:00            7.17             0  Asia/Ho_Chi_Minh   \n",
       "\n",
       "            uv wind_degree  wind_kph  \n",
       "date                                  \n",
       "2024-03-25   6         141      16.6  \n",
       "2020-09-06   7         230       8.0  \n",
       "2024-02-21   9         140      19.1  \n",
       "2018-12-23   5         104       8.5  \n",
       "2024-03-04   7         121      23.8  \n",
       "...         ..         ...       ...  \n",
       "2012-09-07   6         212       7.6  \n",
       "2014-09-30   8          89       6.8  \n",
       "2012-08-18   7         114       5.8  \n",
       "2024-01-04   8           9       7.2  \n",
       "2016-09-15   7         231      10.8  \n",
       "\n",
       "[213960 rows x 39 columns]"
      ],
      "text/html": [
       "<div>\n",
       "<style scoped>\n",
       "    .dataframe tbody tr th:only-of-type {\n",
       "        vertical-align: middle;\n",
       "    }\n",
       "\n",
       "    .dataframe tbody tr th {\n",
       "        vertical-align: top;\n",
       "    }\n",
       "\n",
       "    .dataframe thead th {\n",
       "        text-align: right;\n",
       "    }\n",
       "</style>\n",
       "<table border=\"1\" class=\"dataframe\">\n",
       "  <thead>\n",
       "    <tr style=\"text-align: right;\">\n",
       "      <th></th>\n",
       "      <th>id</th>\n",
       "      <th>avghumidity</th>\n",
       "      <th>avgtemp_c</th>\n",
       "      <th>cloud</th>\n",
       "      <th>condition_code</th>\n",
       "      <th>condition_icon</th>\n",
       "      <th>condition_text</th>\n",
       "      <th>country</th>\n",
       "      <th>daily_chance_of_rain</th>\n",
       "      <th>daily_chance_of_snow</th>\n",
       "      <th>...</th>\n",
       "      <th>region</th>\n",
       "      <th>snow_cm</th>\n",
       "      <th>temp_c</th>\n",
       "      <th>time</th>\n",
       "      <th>totalprecip_mm</th>\n",
       "      <th>totalsnow_cm</th>\n",
       "      <th>tz_id</th>\n",
       "      <th>uv</th>\n",
       "      <th>wind_degree</th>\n",
       "      <th>wind_kph</th>\n",
       "    </tr>\n",
       "    <tr>\n",
       "      <th>date</th>\n",
       "      <th></th>\n",
       "      <th></th>\n",
       "      <th></th>\n",
       "      <th></th>\n",
       "      <th></th>\n",
       "      <th></th>\n",
       "      <th></th>\n",
       "      <th></th>\n",
       "      <th></th>\n",
       "      <th></th>\n",
       "      <th></th>\n",
       "      <th></th>\n",
       "      <th></th>\n",
       "      <th></th>\n",
       "      <th></th>\n",
       "      <th></th>\n",
       "      <th></th>\n",
       "      <th></th>\n",
       "      <th></th>\n",
       "      <th></th>\n",
       "      <th></th>\n",
       "    </tr>\n",
       "  </thead>\n",
       "  <tbody>\n",
       "    <tr>\n",
       "      <th>2024-03-25</th>\n",
       "      <td>4286cd67-728a-420a-bf1b-0d625371c939</td>\n",
       "      <td>81</td>\n",
       "      <td>25.5</td>\n",
       "      <td>82</td>\n",
       "      <td>1006</td>\n",
       "      <td>//cdn.weatherapi.com/weather/64x64/night/119.png</td>\n",
       "      <td>Cloudy</td>\n",
       "      <td>Vietnam</td>\n",
       "      <td>100</td>\n",
       "      <td>0</td>\n",
       "      <td>...</td>\n",
       "      <td>NaN</td>\n",
       "      <td>0</td>\n",
       "      <td>24.2</td>\n",
       "      <td>2024-03-25 00:00</td>\n",
       "      <td>0.27</td>\n",
       "      <td>0</td>\n",
       "      <td>Asia/Bangkok</td>\n",
       "      <td>6</td>\n",
       "      <td>141</td>\n",
       "      <td>16.6</td>\n",
       "    </tr>\n",
       "    <tr>\n",
       "      <th>2020-09-06</th>\n",
       "      <td>952c3aa0-16b7-4376-a1c5-a0d1655ffc83</td>\n",
       "      <td>72</td>\n",
       "      <td>29.3</td>\n",
       "      <td>60</td>\n",
       "      <td>1006</td>\n",
       "      <td>//cdn.weatherapi.com/weather/64x64/night/119.png</td>\n",
       "      <td>Cloudy</td>\n",
       "      <td>Vietnam</td>\n",
       "      <td>100</td>\n",
       "      <td>0</td>\n",
       "      <td>...</td>\n",
       "      <td>NaN</td>\n",
       "      <td>0</td>\n",
       "      <td>27.3</td>\n",
       "      <td>2020-09-06 02:00</td>\n",
       "      <td>1.50</td>\n",
       "      <td>0</td>\n",
       "      <td>Asia/Ho_Chi_Minh</td>\n",
       "      <td>7</td>\n",
       "      <td>230</td>\n",
       "      <td>8.0</td>\n",
       "    </tr>\n",
       "    <tr>\n",
       "      <th>2024-02-21</th>\n",
       "      <td>b09685e8-cf55-4b79-9293-96a685c724a4</td>\n",
       "      <td>67</td>\n",
       "      <td>28.6</td>\n",
       "      <td>7</td>\n",
       "      <td>1000</td>\n",
       "      <td>//cdn.weatherapi.com/weather/64x64/night/113.png</td>\n",
       "      <td>Clear</td>\n",
       "      <td>Vietnam</td>\n",
       "      <td>45</td>\n",
       "      <td>0</td>\n",
       "      <td>...</td>\n",
       "      <td>NaN</td>\n",
       "      <td>0</td>\n",
       "      <td>25.9</td>\n",
       "      <td>2024-02-21 20:00</td>\n",
       "      <td>0.00</td>\n",
       "      <td>0</td>\n",
       "      <td>Asia/Ho_Chi_Minh</td>\n",
       "      <td>9</td>\n",
       "      <td>140</td>\n",
       "      <td>19.1</td>\n",
       "    </tr>\n",
       "    <tr>\n",
       "      <th>2018-12-23</th>\n",
       "      <td>635a56a1-1c8a-463e-beb6-151f42db2390</td>\n",
       "      <td>78</td>\n",
       "      <td>22.3</td>\n",
       "      <td>64</td>\n",
       "      <td>1063</td>\n",
       "      <td>//cdn.weatherapi.com/weather/64x64/night/176.png</td>\n",
       "      <td>Patchy rain possible</td>\n",
       "      <td>Vietnam</td>\n",
       "      <td>100</td>\n",
       "      <td>0</td>\n",
       "      <td>...</td>\n",
       "      <td>NaN</td>\n",
       "      <td>0</td>\n",
       "      <td>22.0</td>\n",
       "      <td>2018-12-23 02:00</td>\n",
       "      <td>3.28</td>\n",
       "      <td>0</td>\n",
       "      <td>Asia/Bangkok</td>\n",
       "      <td>5</td>\n",
       "      <td>104</td>\n",
       "      <td>8.5</td>\n",
       "    </tr>\n",
       "    <tr>\n",
       "      <th>2024-03-04</th>\n",
       "      <td>7787fe5b-5688-48b8-9e20-86fd7d50d371</td>\n",
       "      <td>84</td>\n",
       "      <td>24.0</td>\n",
       "      <td>9</td>\n",
       "      <td>1000</td>\n",
       "      <td>//cdn.weatherapi.com/weather/64x64/day/113.png</td>\n",
       "      <td>Sunny</td>\n",
       "      <td>Vietnam</td>\n",
       "      <td>0</td>\n",
       "      <td>0</td>\n",
       "      <td>...</td>\n",
       "      <td>NaN</td>\n",
       "      <td>0</td>\n",
       "      <td>27.1</td>\n",
       "      <td>2024-03-04 15:00</td>\n",
       "      <td>0.00</td>\n",
       "      <td>0</td>\n",
       "      <td>Asia/Ho_Chi_Minh</td>\n",
       "      <td>7</td>\n",
       "      <td>121</td>\n",
       "      <td>23.8</td>\n",
       "    </tr>\n",
       "    <tr>\n",
       "      <th>...</th>\n",
       "      <td>...</td>\n",
       "      <td>...</td>\n",
       "      <td>...</td>\n",
       "      <td>...</td>\n",
       "      <td>...</td>\n",
       "      <td>...</td>\n",
       "      <td>...</td>\n",
       "      <td>...</td>\n",
       "      <td>...</td>\n",
       "      <td>...</td>\n",
       "      <td>...</td>\n",
       "      <td>...</td>\n",
       "      <td>...</td>\n",
       "      <td>...</td>\n",
       "      <td>...</td>\n",
       "      <td>...</td>\n",
       "      <td>...</td>\n",
       "      <td>...</td>\n",
       "      <td>...</td>\n",
       "      <td>...</td>\n",
       "      <td>...</td>\n",
       "    </tr>\n",
       "    <tr>\n",
       "      <th>2012-09-07</th>\n",
       "      <td>7e3219b3-eb35-4749-94a8-3cacc5f44ac1</td>\n",
       "      <td>85</td>\n",
       "      <td>26.8</td>\n",
       "      <td>58</td>\n",
       "      <td>1063</td>\n",
       "      <td>//cdn.weatherapi.com/weather/64x64/day/176.png</td>\n",
       "      <td>Patchy rain possible</td>\n",
       "      <td>Vietnam</td>\n",
       "      <td>100</td>\n",
       "      <td>0</td>\n",
       "      <td>...</td>\n",
       "      <td>NaN</td>\n",
       "      <td>0</td>\n",
       "      <td>26.4</td>\n",
       "      <td>2012-09-07 07:00</td>\n",
       "      <td>4.10</td>\n",
       "      <td>0</td>\n",
       "      <td>Asia/Ho_Chi_Minh</td>\n",
       "      <td>6</td>\n",
       "      <td>212</td>\n",
       "      <td>7.6</td>\n",
       "    </tr>\n",
       "    <tr>\n",
       "      <th>2014-09-30</th>\n",
       "      <td>d04e1907-e8d5-4f4d-8e8b-ce00ade2c690</td>\n",
       "      <td>84</td>\n",
       "      <td>26.6</td>\n",
       "      <td>28</td>\n",
       "      <td>1003</td>\n",
       "      <td>//cdn.weatherapi.com/weather/64x64/night/116.png</td>\n",
       "      <td>Partly cloudy</td>\n",
       "      <td>Vietnam</td>\n",
       "      <td>100</td>\n",
       "      <td>0</td>\n",
       "      <td>...</td>\n",
       "      <td>NaN</td>\n",
       "      <td>0</td>\n",
       "      <td>26.2</td>\n",
       "      <td>2014-09-30 18:00</td>\n",
       "      <td>0.20</td>\n",
       "      <td>0</td>\n",
       "      <td>Asia/Ho_Chi_Minh</td>\n",
       "      <td>8</td>\n",
       "      <td>89</td>\n",
       "      <td>6.8</td>\n",
       "    </tr>\n",
       "    <tr>\n",
       "      <th>2012-08-18</th>\n",
       "      <td>cdc6b6ab-bf6b-4e31-ad51-8e87fee6d374</td>\n",
       "      <td>87</td>\n",
       "      <td>28.3</td>\n",
       "      <td>26</td>\n",
       "      <td>1003</td>\n",
       "      <td>//cdn.weatherapi.com/weather/64x64/day/116.png</td>\n",
       "      <td>Partly cloudy</td>\n",
       "      <td>Vietnam</td>\n",
       "      <td>100</td>\n",
       "      <td>0</td>\n",
       "      <td>...</td>\n",
       "      <td>NaN</td>\n",
       "      <td>0</td>\n",
       "      <td>28.2</td>\n",
       "      <td>2012-08-18 18:00</td>\n",
       "      <td>0.50</td>\n",
       "      <td>0</td>\n",
       "      <td>Asia/Ho_Chi_Minh</td>\n",
       "      <td>7</td>\n",
       "      <td>114</td>\n",
       "      <td>5.8</td>\n",
       "    </tr>\n",
       "    <tr>\n",
       "      <th>2024-01-04</th>\n",
       "      <td>22d0195a-d028-4bc2-8888-42dc3051c3d8</td>\n",
       "      <td>61</td>\n",
       "      <td>27.8</td>\n",
       "      <td>14</td>\n",
       "      <td>1000</td>\n",
       "      <td>//cdn.weatherapi.com/weather/64x64/day/113.png</td>\n",
       "      <td>Sunny</td>\n",
       "      <td>Vietnam</td>\n",
       "      <td>0</td>\n",
       "      <td>0</td>\n",
       "      <td>...</td>\n",
       "      <td>NaN</td>\n",
       "      <td>0</td>\n",
       "      <td>26.0</td>\n",
       "      <td>2024-01-04 08:00</td>\n",
       "      <td>0.00</td>\n",
       "      <td>0</td>\n",
       "      <td>Asia/Ho_Chi_Minh</td>\n",
       "      <td>8</td>\n",
       "      <td>9</td>\n",
       "      <td>7.2</td>\n",
       "    </tr>\n",
       "    <tr>\n",
       "      <th>2016-09-15</th>\n",
       "      <td>3d594134-99da-4864-8609-2b8c69066c96</td>\n",
       "      <td>78</td>\n",
       "      <td>27.8</td>\n",
       "      <td>22</td>\n",
       "      <td>1000</td>\n",
       "      <td>//cdn.weatherapi.com/weather/64x64/day/113.png</td>\n",
       "      <td>Sunny</td>\n",
       "      <td>Vietnam</td>\n",
       "      <td>100</td>\n",
       "      <td>0</td>\n",
       "      <td>...</td>\n",
       "      <td>NaN</td>\n",
       "      <td>0</td>\n",
       "      <td>28.0</td>\n",
       "      <td>2016-09-15 17:00</td>\n",
       "      <td>7.17</td>\n",
       "      <td>0</td>\n",
       "      <td>Asia/Ho_Chi_Minh</td>\n",
       "      <td>7</td>\n",
       "      <td>231</td>\n",
       "      <td>10.8</td>\n",
       "    </tr>\n",
       "  </tbody>\n",
       "</table>\n",
       "<p>213960 rows × 39 columns</p>\n",
       "</div>"
      ]
     },
     "execution_count": 3,
     "metadata": {},
     "output_type": "execute_result"
    }
   ],
   "execution_count": 3
  },
  {
   "cell_type": "code",
   "source": [
    "null_pct = weather.apply(pd.isnull).sum()/weather.shape[0]\n",
    "null_pct"
   ],
   "metadata": {
    "colab": {
     "base_uri": "https://localhost:8080/",
     "height": 1000
    },
    "id": "KDp2eAHFZq-L",
    "outputId": "d2a3d09c-2404-442e-c0e2-a1c55b29bc06",
    "ExecuteTime": {
     "end_time": "2024-08-14T04:05:47.852490Z",
     "start_time": "2024-08-14T04:05:47.782352Z"
    }
   },
   "outputs": [
    {
     "data": {
      "text/plain": [
       "id                      0.0\n",
       "avghumidity             0.0\n",
       "avgtemp_c               0.0\n",
       "cloud                   0.0\n",
       "condition_code          0.0\n",
       "condition_icon          0.0\n",
       "condition_text          0.0\n",
       "country                 0.0\n",
       "daily_chance_of_rain    0.0\n",
       "daily_chance_of_snow    0.0\n",
       "daily_will_it_rain      0.0\n",
       "daily_will_it_snow      0.0\n",
       "date_epoch              0.0\n",
       "feelslike_c             0.0\n",
       "hour_uv                 0.0\n",
       "humidity                0.0\n",
       "is_day                  0.0\n",
       "lat                     0.0\n",
       "localtime               0.0\n",
       "localtime_epoch         0.0\n",
       "lon                     0.0\n",
       "maxtemp_c               0.0\n",
       "maxwind_kph             0.0\n",
       "mintemp_c               0.0\n",
       "name                    0.0\n",
       "precip_in               0.0\n",
       "precip_mm               0.0\n",
       "pressure_in             0.0\n",
       "pressure_mb             0.0\n",
       "region                  1.0\n",
       "snow_cm                 0.0\n",
       "temp_c                  0.0\n",
       "time                    0.0\n",
       "totalprecip_mm          0.0\n",
       "totalsnow_cm            0.0\n",
       "tz_id                   0.0\n",
       "uv                      0.0\n",
       "wind_degree             0.0\n",
       "wind_kph                0.0\n",
       "dtype: float64"
      ]
     },
     "execution_count": 3,
     "metadata": {},
     "output_type": "execute_result"
    }
   ],
   "execution_count": 3
  },
  {
   "cell_type": "code",
   "source": [
    "valid_columns = weather.columns[null_pct < .05]"
   ],
   "metadata": {
    "id": "Nv7KRj3JZu3r",
    "ExecuteTime": {
     "end_time": "2024-08-14T04:06:00.867776Z",
     "start_time": "2024-08-14T04:06:00.860452Z"
    }
   },
   "outputs": [],
   "execution_count": 4
  },
  {
   "cell_type": "code",
   "source": [
    "valid_columns"
   ],
   "metadata": {
    "colab": {
     "base_uri": "https://localhost:8080/"
    },
    "id": "RbjvJtIGZ_uB",
    "outputId": "f1f9991d-e02d-4ae8-d17c-8b6f5a179780",
    "ExecuteTime": {
     "end_time": "2024-08-14T04:06:03.929775Z",
     "start_time": "2024-08-14T04:06:03.910539Z"
    }
   },
   "outputs": [
    {
     "data": {
      "text/plain": [
       "Index(['id', 'avghumidity', 'avgtemp_c', 'cloud', 'condition_code',\n",
       "       'condition_icon', 'condition_text', 'country', 'daily_chance_of_rain',\n",
       "       'daily_chance_of_snow', 'daily_will_it_rain', 'daily_will_it_snow',\n",
       "       'date_epoch', 'feelslike_c', 'hour_uv', 'humidity', 'is_day', 'lat',\n",
       "       'localtime', 'localtime_epoch', 'lon', 'maxtemp_c', 'maxwind_kph',\n",
       "       'mintemp_c', 'name', 'precip_in', 'precip_mm', 'pressure_in',\n",
       "       'pressure_mb', 'snow_cm', 'temp_c', 'time', 'totalprecip_mm',\n",
       "       'totalsnow_cm', 'tz_id', 'uv', 'wind_degree', 'wind_kph'],\n",
       "      dtype='object')"
      ]
     },
     "execution_count": 5,
     "metadata": {},
     "output_type": "execute_result"
    }
   ],
   "execution_count": 5
  },
  {
   "cell_type": "code",
   "source": [
    "weather = weather[valid_columns].copy()"
   ],
   "metadata": {
    "id": "0NvCnK5qaBXy",
    "ExecuteTime": {
     "end_time": "2024-08-14T04:06:06.867396Z",
     "start_time": "2024-08-14T04:06:06.786959Z"
    }
   },
   "outputs": [],
   "execution_count": 6
  },
  {
   "cell_type": "code",
   "source": [
    "weather.columns = weather.columns.str.lower()"
   ],
   "metadata": {
    "id": "O4o9ZRT5aJVY",
    "ExecuteTime": {
     "end_time": "2024-08-14T04:06:08.929195Z",
     "start_time": "2024-08-14T04:06:08.912197Z"
    }
   },
   "outputs": [],
   "execution_count": 7
  },
  {
   "cell_type": "code",
   "source": [
    "weather"
   ],
   "metadata": {
    "colab": {
     "base_uri": "https://localhost:8080/",
     "height": 996
    },
    "id": "v1CHroezaPsy",
    "outputId": "6c8ab4e9-f683-49fb-a046-a921324feb04",
    "ExecuteTime": {
     "end_time": "2024-08-14T04:06:11.851994Z",
     "start_time": "2024-08-14T04:06:11.736299Z"
    }
   },
   "outputs": [
    {
     "data": {
      "text/plain": [
       "                                              id  avghumidity  avgtemp_c  \\\n",
       "date                                                                       \n",
       "2024-03-25  4286cd67-728a-420a-bf1b-0d625371c939           81       25.5   \n",
       "2020-09-06  952c3aa0-16b7-4376-a1c5-a0d1655ffc83           72       29.3   \n",
       "2024-02-21  b09685e8-cf55-4b79-9293-96a685c724a4           67       28.6   \n",
       "2018-12-23  635a56a1-1c8a-463e-beb6-151f42db2390           78       22.3   \n",
       "2024-03-04  7787fe5b-5688-48b8-9e20-86fd7d50d371           84       24.0   \n",
       "...                                          ...          ...        ...   \n",
       "2012-09-07  7e3219b3-eb35-4749-94a8-3cacc5f44ac1           85       26.8   \n",
       "2014-09-30  d04e1907-e8d5-4f4d-8e8b-ce00ade2c690           84       26.6   \n",
       "2012-08-18  cdc6b6ab-bf6b-4e31-ad51-8e87fee6d374           87       28.3   \n",
       "2024-01-04  22d0195a-d028-4bc2-8888-42dc3051c3d8           61       27.8   \n",
       "2016-09-15  3d594134-99da-4864-8609-2b8c69066c96           78       27.8   \n",
       "\n",
       "            cloud  condition_code  \\\n",
       "date                                \n",
       "2024-03-25     82            1006   \n",
       "2020-09-06     60            1006   \n",
       "2024-02-21      7            1000   \n",
       "2018-12-23     64            1063   \n",
       "2024-03-04      9            1000   \n",
       "...           ...             ...   \n",
       "2012-09-07     58            1063   \n",
       "2014-09-30     28            1003   \n",
       "2012-08-18     26            1003   \n",
       "2024-01-04     14            1000   \n",
       "2016-09-15     22            1000   \n",
       "\n",
       "                                              condition_icon  \\\n",
       "date                                                           \n",
       "2024-03-25  //cdn.weatherapi.com/weather/64x64/night/119.png   \n",
       "2020-09-06  //cdn.weatherapi.com/weather/64x64/night/119.png   \n",
       "2024-02-21  //cdn.weatherapi.com/weather/64x64/night/113.png   \n",
       "2018-12-23  //cdn.weatherapi.com/weather/64x64/night/176.png   \n",
       "2024-03-04    //cdn.weatherapi.com/weather/64x64/day/113.png   \n",
       "...                                                      ...   \n",
       "2012-09-07    //cdn.weatherapi.com/weather/64x64/day/176.png   \n",
       "2014-09-30  //cdn.weatherapi.com/weather/64x64/night/116.png   \n",
       "2012-08-18    //cdn.weatherapi.com/weather/64x64/day/116.png   \n",
       "2024-01-04    //cdn.weatherapi.com/weather/64x64/day/113.png   \n",
       "2016-09-15    //cdn.weatherapi.com/weather/64x64/day/113.png   \n",
       "\n",
       "                  condition_text  country  daily_chance_of_rain  \\\n",
       "date                                                              \n",
       "2024-03-25                Cloudy  Vietnam                   100   \n",
       "2020-09-06                Cloudy  Vietnam                   100   \n",
       "2024-02-21                 Clear  Vietnam                    45   \n",
       "2018-12-23  Patchy rain possible  Vietnam                   100   \n",
       "2024-03-04                 Sunny  Vietnam                     0   \n",
       "...                          ...      ...                   ...   \n",
       "2012-09-07  Patchy rain possible  Vietnam                   100   \n",
       "2014-09-30         Partly cloudy  Vietnam                   100   \n",
       "2012-08-18         Partly cloudy  Vietnam                   100   \n",
       "2024-01-04                 Sunny  Vietnam                     0   \n",
       "2016-09-15                 Sunny  Vietnam                   100   \n",
       "\n",
       "            daily_chance_of_snow  ...  pressure_mb  snow_cm  temp_c  \\\n",
       "date                              ...                                 \n",
       "2024-03-25                     0  ...         1010        0    24.2   \n",
       "2020-09-06                     0  ...         1007        0    27.3   \n",
       "2024-02-21                     0  ...         1011        0    25.9   \n",
       "2018-12-23                     0  ...         1017        0    22.0   \n",
       "2024-03-04                     0  ...         1006        0    27.1   \n",
       "...                          ...  ...          ...      ...     ...   \n",
       "2012-09-07                     0  ...         1011        0    26.4   \n",
       "2014-09-30                     0  ...         1011        0    26.2   \n",
       "2012-08-18                     0  ...         1006        0    28.2   \n",
       "2024-01-04                     0  ...         1013        0    26.0   \n",
       "2016-09-15                     0  ...         1006        0    28.0   \n",
       "\n",
       "                        time  totalprecip_mm  totalsnow_cm             tz_id  \\\n",
       "date                                                                           \n",
       "2024-03-25  2024-03-25 00:00            0.27             0      Asia/Bangkok   \n",
       "2020-09-06  2020-09-06 02:00            1.50             0  Asia/Ho_Chi_Minh   \n",
       "2024-02-21  2024-02-21 20:00            0.00             0  Asia/Ho_Chi_Minh   \n",
       "2018-12-23  2018-12-23 02:00            3.28             0      Asia/Bangkok   \n",
       "2024-03-04  2024-03-04 15:00            0.00             0  Asia/Ho_Chi_Minh   \n",
       "...                      ...             ...           ...               ...   \n",
       "2012-09-07  2012-09-07 07:00            4.10             0  Asia/Ho_Chi_Minh   \n",
       "2014-09-30  2014-09-30 18:00            0.20             0  Asia/Ho_Chi_Minh   \n",
       "2012-08-18  2012-08-18 18:00            0.50             0  Asia/Ho_Chi_Minh   \n",
       "2024-01-04  2024-01-04 08:00            0.00             0  Asia/Ho_Chi_Minh   \n",
       "2016-09-15  2016-09-15 17:00            7.17             0  Asia/Ho_Chi_Minh   \n",
       "\n",
       "            uv wind_degree  wind_kph  \n",
       "date                                  \n",
       "2024-03-25   6         141      16.6  \n",
       "2020-09-06   7         230       8.0  \n",
       "2024-02-21   9         140      19.1  \n",
       "2018-12-23   5         104       8.5  \n",
       "2024-03-04   7         121      23.8  \n",
       "...         ..         ...       ...  \n",
       "2012-09-07   6         212       7.6  \n",
       "2014-09-30   8          89       6.8  \n",
       "2012-08-18   7         114       5.8  \n",
       "2024-01-04   8           9       7.2  \n",
       "2016-09-15   7         231      10.8  \n",
       "\n",
       "[213960 rows x 38 columns]"
      ],
      "text/html": [
       "<div>\n",
       "<style scoped>\n",
       "    .dataframe tbody tr th:only-of-type {\n",
       "        vertical-align: middle;\n",
       "    }\n",
       "\n",
       "    .dataframe tbody tr th {\n",
       "        vertical-align: top;\n",
       "    }\n",
       "\n",
       "    .dataframe thead th {\n",
       "        text-align: right;\n",
       "    }\n",
       "</style>\n",
       "<table border=\"1\" class=\"dataframe\">\n",
       "  <thead>\n",
       "    <tr style=\"text-align: right;\">\n",
       "      <th></th>\n",
       "      <th>id</th>\n",
       "      <th>avghumidity</th>\n",
       "      <th>avgtemp_c</th>\n",
       "      <th>cloud</th>\n",
       "      <th>condition_code</th>\n",
       "      <th>condition_icon</th>\n",
       "      <th>condition_text</th>\n",
       "      <th>country</th>\n",
       "      <th>daily_chance_of_rain</th>\n",
       "      <th>daily_chance_of_snow</th>\n",
       "      <th>...</th>\n",
       "      <th>pressure_mb</th>\n",
       "      <th>snow_cm</th>\n",
       "      <th>temp_c</th>\n",
       "      <th>time</th>\n",
       "      <th>totalprecip_mm</th>\n",
       "      <th>totalsnow_cm</th>\n",
       "      <th>tz_id</th>\n",
       "      <th>uv</th>\n",
       "      <th>wind_degree</th>\n",
       "      <th>wind_kph</th>\n",
       "    </tr>\n",
       "    <tr>\n",
       "      <th>date</th>\n",
       "      <th></th>\n",
       "      <th></th>\n",
       "      <th></th>\n",
       "      <th></th>\n",
       "      <th></th>\n",
       "      <th></th>\n",
       "      <th></th>\n",
       "      <th></th>\n",
       "      <th></th>\n",
       "      <th></th>\n",
       "      <th></th>\n",
       "      <th></th>\n",
       "      <th></th>\n",
       "      <th></th>\n",
       "      <th></th>\n",
       "      <th></th>\n",
       "      <th></th>\n",
       "      <th></th>\n",
       "      <th></th>\n",
       "      <th></th>\n",
       "      <th></th>\n",
       "    </tr>\n",
       "  </thead>\n",
       "  <tbody>\n",
       "    <tr>\n",
       "      <th>2024-03-25</th>\n",
       "      <td>4286cd67-728a-420a-bf1b-0d625371c939</td>\n",
       "      <td>81</td>\n",
       "      <td>25.5</td>\n",
       "      <td>82</td>\n",
       "      <td>1006</td>\n",
       "      <td>//cdn.weatherapi.com/weather/64x64/night/119.png</td>\n",
       "      <td>Cloudy</td>\n",
       "      <td>Vietnam</td>\n",
       "      <td>100</td>\n",
       "      <td>0</td>\n",
       "      <td>...</td>\n",
       "      <td>1010</td>\n",
       "      <td>0</td>\n",
       "      <td>24.2</td>\n",
       "      <td>2024-03-25 00:00</td>\n",
       "      <td>0.27</td>\n",
       "      <td>0</td>\n",
       "      <td>Asia/Bangkok</td>\n",
       "      <td>6</td>\n",
       "      <td>141</td>\n",
       "      <td>16.6</td>\n",
       "    </tr>\n",
       "    <tr>\n",
       "      <th>2020-09-06</th>\n",
       "      <td>952c3aa0-16b7-4376-a1c5-a0d1655ffc83</td>\n",
       "      <td>72</td>\n",
       "      <td>29.3</td>\n",
       "      <td>60</td>\n",
       "      <td>1006</td>\n",
       "      <td>//cdn.weatherapi.com/weather/64x64/night/119.png</td>\n",
       "      <td>Cloudy</td>\n",
       "      <td>Vietnam</td>\n",
       "      <td>100</td>\n",
       "      <td>0</td>\n",
       "      <td>...</td>\n",
       "      <td>1007</td>\n",
       "      <td>0</td>\n",
       "      <td>27.3</td>\n",
       "      <td>2020-09-06 02:00</td>\n",
       "      <td>1.50</td>\n",
       "      <td>0</td>\n",
       "      <td>Asia/Ho_Chi_Minh</td>\n",
       "      <td>7</td>\n",
       "      <td>230</td>\n",
       "      <td>8.0</td>\n",
       "    </tr>\n",
       "    <tr>\n",
       "      <th>2024-02-21</th>\n",
       "      <td>b09685e8-cf55-4b79-9293-96a685c724a4</td>\n",
       "      <td>67</td>\n",
       "      <td>28.6</td>\n",
       "      <td>7</td>\n",
       "      <td>1000</td>\n",
       "      <td>//cdn.weatherapi.com/weather/64x64/night/113.png</td>\n",
       "      <td>Clear</td>\n",
       "      <td>Vietnam</td>\n",
       "      <td>45</td>\n",
       "      <td>0</td>\n",
       "      <td>...</td>\n",
       "      <td>1011</td>\n",
       "      <td>0</td>\n",
       "      <td>25.9</td>\n",
       "      <td>2024-02-21 20:00</td>\n",
       "      <td>0.00</td>\n",
       "      <td>0</td>\n",
       "      <td>Asia/Ho_Chi_Minh</td>\n",
       "      <td>9</td>\n",
       "      <td>140</td>\n",
       "      <td>19.1</td>\n",
       "    </tr>\n",
       "    <tr>\n",
       "      <th>2018-12-23</th>\n",
       "      <td>635a56a1-1c8a-463e-beb6-151f42db2390</td>\n",
       "      <td>78</td>\n",
       "      <td>22.3</td>\n",
       "      <td>64</td>\n",
       "      <td>1063</td>\n",
       "      <td>//cdn.weatherapi.com/weather/64x64/night/176.png</td>\n",
       "      <td>Patchy rain possible</td>\n",
       "      <td>Vietnam</td>\n",
       "      <td>100</td>\n",
       "      <td>0</td>\n",
       "      <td>...</td>\n",
       "      <td>1017</td>\n",
       "      <td>0</td>\n",
       "      <td>22.0</td>\n",
       "      <td>2018-12-23 02:00</td>\n",
       "      <td>3.28</td>\n",
       "      <td>0</td>\n",
       "      <td>Asia/Bangkok</td>\n",
       "      <td>5</td>\n",
       "      <td>104</td>\n",
       "      <td>8.5</td>\n",
       "    </tr>\n",
       "    <tr>\n",
       "      <th>2024-03-04</th>\n",
       "      <td>7787fe5b-5688-48b8-9e20-86fd7d50d371</td>\n",
       "      <td>84</td>\n",
       "      <td>24.0</td>\n",
       "      <td>9</td>\n",
       "      <td>1000</td>\n",
       "      <td>//cdn.weatherapi.com/weather/64x64/day/113.png</td>\n",
       "      <td>Sunny</td>\n",
       "      <td>Vietnam</td>\n",
       "      <td>0</td>\n",
       "      <td>0</td>\n",
       "      <td>...</td>\n",
       "      <td>1006</td>\n",
       "      <td>0</td>\n",
       "      <td>27.1</td>\n",
       "      <td>2024-03-04 15:00</td>\n",
       "      <td>0.00</td>\n",
       "      <td>0</td>\n",
       "      <td>Asia/Ho_Chi_Minh</td>\n",
       "      <td>7</td>\n",
       "      <td>121</td>\n",
       "      <td>23.8</td>\n",
       "    </tr>\n",
       "    <tr>\n",
       "      <th>...</th>\n",
       "      <td>...</td>\n",
       "      <td>...</td>\n",
       "      <td>...</td>\n",
       "      <td>...</td>\n",
       "      <td>...</td>\n",
       "      <td>...</td>\n",
       "      <td>...</td>\n",
       "      <td>...</td>\n",
       "      <td>...</td>\n",
       "      <td>...</td>\n",
       "      <td>...</td>\n",
       "      <td>...</td>\n",
       "      <td>...</td>\n",
       "      <td>...</td>\n",
       "      <td>...</td>\n",
       "      <td>...</td>\n",
       "      <td>...</td>\n",
       "      <td>...</td>\n",
       "      <td>...</td>\n",
       "      <td>...</td>\n",
       "      <td>...</td>\n",
       "    </tr>\n",
       "    <tr>\n",
       "      <th>2012-09-07</th>\n",
       "      <td>7e3219b3-eb35-4749-94a8-3cacc5f44ac1</td>\n",
       "      <td>85</td>\n",
       "      <td>26.8</td>\n",
       "      <td>58</td>\n",
       "      <td>1063</td>\n",
       "      <td>//cdn.weatherapi.com/weather/64x64/day/176.png</td>\n",
       "      <td>Patchy rain possible</td>\n",
       "      <td>Vietnam</td>\n",
       "      <td>100</td>\n",
       "      <td>0</td>\n",
       "      <td>...</td>\n",
       "      <td>1011</td>\n",
       "      <td>0</td>\n",
       "      <td>26.4</td>\n",
       "      <td>2012-09-07 07:00</td>\n",
       "      <td>4.10</td>\n",
       "      <td>0</td>\n",
       "      <td>Asia/Ho_Chi_Minh</td>\n",
       "      <td>6</td>\n",
       "      <td>212</td>\n",
       "      <td>7.6</td>\n",
       "    </tr>\n",
       "    <tr>\n",
       "      <th>2014-09-30</th>\n",
       "      <td>d04e1907-e8d5-4f4d-8e8b-ce00ade2c690</td>\n",
       "      <td>84</td>\n",
       "      <td>26.6</td>\n",
       "      <td>28</td>\n",
       "      <td>1003</td>\n",
       "      <td>//cdn.weatherapi.com/weather/64x64/night/116.png</td>\n",
       "      <td>Partly cloudy</td>\n",
       "      <td>Vietnam</td>\n",
       "      <td>100</td>\n",
       "      <td>0</td>\n",
       "      <td>...</td>\n",
       "      <td>1011</td>\n",
       "      <td>0</td>\n",
       "      <td>26.2</td>\n",
       "      <td>2014-09-30 18:00</td>\n",
       "      <td>0.20</td>\n",
       "      <td>0</td>\n",
       "      <td>Asia/Ho_Chi_Minh</td>\n",
       "      <td>8</td>\n",
       "      <td>89</td>\n",
       "      <td>6.8</td>\n",
       "    </tr>\n",
       "    <tr>\n",
       "      <th>2012-08-18</th>\n",
       "      <td>cdc6b6ab-bf6b-4e31-ad51-8e87fee6d374</td>\n",
       "      <td>87</td>\n",
       "      <td>28.3</td>\n",
       "      <td>26</td>\n",
       "      <td>1003</td>\n",
       "      <td>//cdn.weatherapi.com/weather/64x64/day/116.png</td>\n",
       "      <td>Partly cloudy</td>\n",
       "      <td>Vietnam</td>\n",
       "      <td>100</td>\n",
       "      <td>0</td>\n",
       "      <td>...</td>\n",
       "      <td>1006</td>\n",
       "      <td>0</td>\n",
       "      <td>28.2</td>\n",
       "      <td>2012-08-18 18:00</td>\n",
       "      <td>0.50</td>\n",
       "      <td>0</td>\n",
       "      <td>Asia/Ho_Chi_Minh</td>\n",
       "      <td>7</td>\n",
       "      <td>114</td>\n",
       "      <td>5.8</td>\n",
       "    </tr>\n",
       "    <tr>\n",
       "      <th>2024-01-04</th>\n",
       "      <td>22d0195a-d028-4bc2-8888-42dc3051c3d8</td>\n",
       "      <td>61</td>\n",
       "      <td>27.8</td>\n",
       "      <td>14</td>\n",
       "      <td>1000</td>\n",
       "      <td>//cdn.weatherapi.com/weather/64x64/day/113.png</td>\n",
       "      <td>Sunny</td>\n",
       "      <td>Vietnam</td>\n",
       "      <td>0</td>\n",
       "      <td>0</td>\n",
       "      <td>...</td>\n",
       "      <td>1013</td>\n",
       "      <td>0</td>\n",
       "      <td>26.0</td>\n",
       "      <td>2024-01-04 08:00</td>\n",
       "      <td>0.00</td>\n",
       "      <td>0</td>\n",
       "      <td>Asia/Ho_Chi_Minh</td>\n",
       "      <td>8</td>\n",
       "      <td>9</td>\n",
       "      <td>7.2</td>\n",
       "    </tr>\n",
       "    <tr>\n",
       "      <th>2016-09-15</th>\n",
       "      <td>3d594134-99da-4864-8609-2b8c69066c96</td>\n",
       "      <td>78</td>\n",
       "      <td>27.8</td>\n",
       "      <td>22</td>\n",
       "      <td>1000</td>\n",
       "      <td>//cdn.weatherapi.com/weather/64x64/day/113.png</td>\n",
       "      <td>Sunny</td>\n",
       "      <td>Vietnam</td>\n",
       "      <td>100</td>\n",
       "      <td>0</td>\n",
       "      <td>...</td>\n",
       "      <td>1006</td>\n",
       "      <td>0</td>\n",
       "      <td>28.0</td>\n",
       "      <td>2016-09-15 17:00</td>\n",
       "      <td>7.17</td>\n",
       "      <td>0</td>\n",
       "      <td>Asia/Ho_Chi_Minh</td>\n",
       "      <td>7</td>\n",
       "      <td>231</td>\n",
       "      <td>10.8</td>\n",
       "    </tr>\n",
       "  </tbody>\n",
       "</table>\n",
       "<p>213960 rows × 38 columns</p>\n",
       "</div>"
      ]
     },
     "execution_count": 8,
     "metadata": {},
     "output_type": "execute_result"
    }
   ],
   "execution_count": 8
  },
  {
   "cell_type": "code",
   "source": [
    "weather = weather.ffill()"
   ],
   "metadata": {
    "id": "KnvKqcXOaWIp",
    "ExecuteTime": {
     "end_time": "2024-08-14T04:06:16.914566Z",
     "start_time": "2024-08-14T04:06:16.737163Z"
    }
   },
   "outputs": [],
   "execution_count": 9
  },
  {
   "cell_type": "code",
   "source": [
    "weather.apply (pd.isnull).sum()"
   ],
   "metadata": {
    "colab": {
     "base_uri": "https://localhost:8080/",
     "height": 1000
    },
    "id": "R8wjty-Gah2c",
    "outputId": "01b4a34a-f620-4643-9c13-91846e3955cd",
    "ExecuteTime": {
     "end_time": "2024-08-14T04:06:48.468047Z",
     "start_time": "2024-08-14T04:06:48.367328Z"
    }
   },
   "outputs": [
    {
     "data": {
      "text/plain": [
       "id                      0\n",
       "avghumidity             0\n",
       "avgtemp_c               0\n",
       "cloud                   0\n",
       "condition_code          0\n",
       "condition_icon          0\n",
       "condition_text          0\n",
       "country                 0\n",
       "daily_chance_of_rain    0\n",
       "daily_chance_of_snow    0\n",
       "daily_will_it_rain      0\n",
       "daily_will_it_snow      0\n",
       "date_epoch              0\n",
       "feelslike_c             0\n",
       "hour_uv                 0\n",
       "humidity                0\n",
       "is_day                  0\n",
       "lat                     0\n",
       "localtime               0\n",
       "localtime_epoch         0\n",
       "lon                     0\n",
       "maxtemp_c               0\n",
       "maxwind_kph             0\n",
       "mintemp_c               0\n",
       "name                    0\n",
       "precip_in               0\n",
       "precip_mm               0\n",
       "pressure_in             0\n",
       "pressure_mb             0\n",
       "snow_cm                 0\n",
       "temp_c                  0\n",
       "time                    0\n",
       "totalprecip_mm          0\n",
       "totalsnow_cm            0\n",
       "tz_id                   0\n",
       "uv                      0\n",
       "wind_degree             0\n",
       "wind_kph                0\n",
       "dtype: int64"
      ]
     },
     "execution_count": 11,
     "metadata": {},
     "output_type": "execute_result"
    }
   ],
   "execution_count": 11
  },
  {
   "cell_type": "markdown",
   "source": [
    "weather.apply(lambda x: (x == 9999).sum())"
   ],
   "metadata": {
    "id": "K0freSApannL"
   }
  },
  {
   "cell_type": "code",
   "source": [
    "weather.dtypes"
   ],
   "metadata": {
    "colab": {
     "base_uri": "https://localhost:8080/",
     "height": 1000
    },
    "id": "P5m5rp_JauxF",
    "outputId": "66365c97-8c93-475e-ae2a-8ad411d354cd",
    "ExecuteTime": {
     "end_time": "2024-08-14T04:07:41.567599Z",
     "start_time": "2024-08-14T04:07:41.536841Z"
    }
   },
   "outputs": [
    {
     "data": {
      "text/plain": [
       "id                       object\n",
       "avghumidity               int64\n",
       "avgtemp_c               float64\n",
       "cloud                     int64\n",
       "condition_code            int64\n",
       "condition_icon           object\n",
       "condition_text           object\n",
       "country                  object\n",
       "daily_chance_of_rain      int64\n",
       "daily_chance_of_snow      int64\n",
       "daily_will_it_rain        int64\n",
       "daily_will_it_snow        int64\n",
       "date_epoch                int64\n",
       "feelslike_c             float64\n",
       "hour_uv                   int64\n",
       "humidity                  int64\n",
       "is_day                    int64\n",
       "lat                     float64\n",
       "localtime                object\n",
       "localtime_epoch           int64\n",
       "lon                     float64\n",
       "maxtemp_c               float64\n",
       "maxwind_kph             float64\n",
       "mintemp_c               float64\n",
       "name                     object\n",
       "precip_in               float64\n",
       "precip_mm               float64\n",
       "pressure_in             float64\n",
       "pressure_mb               int64\n",
       "snow_cm                   int64\n",
       "temp_c                  float64\n",
       "time                     object\n",
       "totalprecip_mm          float64\n",
       "totalsnow_cm              int64\n",
       "tz_id                    object\n",
       "uv                        int64\n",
       "wind_degree               int64\n",
       "wind_kph                float64\n",
       "dtype: object"
      ]
     },
     "execution_count": 12,
     "metadata": {},
     "output_type": "execute_result"
    }
   ],
   "execution_count": 12
  },
  {
   "cell_type": "code",
   "source": [
    "weather.index"
   ],
   "metadata": {
    "colab": {
     "base_uri": "https://localhost:8080/"
    },
    "id": "3nC0F_7PaxhK",
    "outputId": "436aefcf-589b-4c8d-9d49-3bc801f626b3",
    "ExecuteTime": {
     "end_time": "2024-08-14T04:08:27.802758Z",
     "start_time": "2024-08-14T04:08:27.787127Z"
    }
   },
   "outputs": [
    {
     "data": {
      "text/plain": [
       "Index(['2024-03-25', '2020-09-06', '2024-02-21', '2018-12-23', '2024-03-04',\n",
       "       '2022-08-08', '2013-06-08', '2022-10-02', '2012-06-26', '2014-09-14',\n",
       "       ...\n",
       "       '2012-07-13', '2022-01-18', '2012-11-03', '2020-03-08', '2014-03-01',\n",
       "       '2012-09-07', '2014-09-30', '2012-08-18', '2024-01-04', '2016-09-15'],\n",
       "      dtype='object', name='date', length=213960)"
      ]
     },
     "execution_count": 13,
     "metadata": {},
     "output_type": "execute_result"
    }
   ],
   "execution_count": 13
  },
  {
   "cell_type": "code",
   "source": [
    "weather.index = pd.to_datetime(weather.index)"
   ],
   "metadata": {
    "id": "E0h0JXTGa1ZC",
    "ExecuteTime": {
     "end_time": "2024-08-14T04:08:30.564865Z",
     "start_time": "2024-08-14T04:08:30.466846Z"
    }
   },
   "outputs": [],
   "execution_count": 14
  },
  {
   "cell_type": "code",
   "source": [
    "weather.index.year.value_counts().sort_index()"
   ],
   "metadata": {
    "colab": {
     "base_uri": "https://localhost:8080/",
     "height": 460
    },
    "id": "qsfwWzW7a444",
    "outputId": "ae67e115-4be9-4d79-b91f-ce4166682750",
    "ExecuteTime": {
     "end_time": "2024-08-14T04:08:32.223757Z",
     "start_time": "2024-08-14T04:08:32.199435Z"
    }
   },
   "outputs": [
    {
     "data": {
      "text/plain": [
       "date\n",
       "2010    18360\n",
       "2011     8760\n",
       "2012    26352\n",
       "2013     8760\n",
       "2014    26256\n",
       "2015     4080\n",
       "2016    26352\n",
       "2018    26280\n",
       "2020    26352\n",
       "2022    26280\n",
       "2024    16128\n",
       "Name: count, dtype: int64"
      ]
     },
     "execution_count": 15,
     "metadata": {},
     "output_type": "execute_result"
    }
   ],
   "execution_count": 15
  },
  {
   "cell_type": "code",
   "source": [
    "# drop row which not in even year\n",
    "weather = weather[weather.index.year % 2 == 0]"
   ],
   "metadata": {
    "id": "PRAyVmK7bmgj",
    "ExecuteTime": {
     "end_time": "2024-08-14T04:08:37.168681Z",
     "start_time": "2024-08-14T04:08:37.102570Z"
    }
   },
   "outputs": [],
   "execution_count": 16
  },
  {
   "cell_type": "code",
   "source": [
    "weather.index.year.value_counts().sort_index()"
   ],
   "metadata": {
    "colab": {
     "base_uri": "https://localhost:8080/",
     "height": 366
    },
    "id": "KbsV8p3QbyEr",
    "outputId": "6a727327-257a-4407-89d9-3e323378459a",
    "ExecuteTime": {
     "end_time": "2024-08-14T04:08:39.429670Z",
     "start_time": "2024-08-14T04:08:39.402565Z"
    }
   },
   "outputs": [
    {
     "data": {
      "text/plain": [
       "date\n",
       "2010    18360\n",
       "2012    26352\n",
       "2014    26256\n",
       "2016    26352\n",
       "2018    26280\n",
       "2020    26352\n",
       "2022    26280\n",
       "2024    16128\n",
       "Name: count, dtype: int64"
      ]
     },
     "execution_count": 17,
     "metadata": {},
     "output_type": "execute_result"
    }
   ],
   "execution_count": 17
  },
  {
   "cell_type": "code",
   "source": "weather[\"humidity\"].plot()",
   "metadata": {
    "colab": {
     "base_uri": "https://localhost:8080/",
     "height": 439
    },
    "id": "ScG12_oHbASg",
    "outputId": "88953611-3bd1-4019-a18e-05eaa69686c8",
    "ExecuteTime": {
     "end_time": "2024-08-14T04:12:16.352278Z",
     "start_time": "2024-08-14T04:11:55.081286Z"
    }
   },
   "outputs": [
    {
     "data": {
      "text/plain": [
       "<Axes: xlabel='date'>"
      ]
     },
     "execution_count": 18,
     "metadata": {},
     "output_type": "execute_result"
    },
    {
     "data": {
      "text/plain": [
       "<Figure size 640x480 with 1 Axes>"
      ],
      "image/png": "[encoded data removed]"
     },
     "metadata": {},
     "output_type": "display_data"
    }
   ],
   "execution_count": 18
  },
  {
   "metadata": {},
   "cell_type": "code",
   "outputs": [],
   "execution_count": null,
   "source": ""
  }
 ]
}
